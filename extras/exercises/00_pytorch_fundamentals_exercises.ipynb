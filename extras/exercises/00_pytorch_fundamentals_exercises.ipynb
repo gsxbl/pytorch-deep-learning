{
 "cells": [
  {
   "cell_type": "markdown",
   "metadata": {
    "id": "AzDBM_v4iMe7"
   },
   "source": [
    "# 00. PyTorch Fundamentals Exercises\n",
    "\n",
    "### 1. Documentation reading \n",
    "\n",
    "A big part of deep learning (and learning to code in general) is getting familiar with the documentation of a certain framework you're using. We'll be using the PyTorch documentation a lot throughout the rest of this course. So I'd recommend spending 10-minutes reading the following (it's okay if you don't get some things for now, the focus is not yet full understanding, it's awareness):\n",
    "  * The documentation on [`torch.Tensor`](https://pytorch.org/docs/stable/tensors.html#torch-tensor).\n",
    "  * The documentation on [`torch.cuda`](https://pytorch.org/docs/master/notes/cuda.html#cuda-semantics).\n",
    "\n"
   ]
  },
  {
   "cell_type": "code",
   "execution_count": 1,
   "metadata": {
    "id": "bGD0oD8Kizak"
   },
   "outputs": [],
   "source": [
    "# No code solution (reading)"
   ]
  },
  {
   "cell_type": "markdown",
   "metadata": {
    "id": "__iXqqz-ioUJ"
   },
   "source": [
    "### 2. Create a random tensor with shape `(7, 7)`.\n"
   ]
  },
  {
   "cell_type": "code",
   "execution_count": 4,
   "metadata": {
    "id": "6pUq9Dc8i2L7"
   },
   "outputs": [
    {
     "data": {
      "text/plain": [
       "tensor([[0.0513, 0.4521, 0.6770, 0.1629, 0.4022, 0.4646, 0.6428],\n",
       "        [0.7431, 0.9699, 0.0961, 0.9057, 0.9734, 0.0831, 0.5700],\n",
       "        [0.9680, 0.8564, 0.1310, 0.9817, 0.1148, 0.2855, 0.1209],\n",
       "        [0.2183, 0.9451, 0.2141, 0.8068, 0.1912, 0.1064, 0.9076],\n",
       "        [0.2057, 0.7896, 0.9049, 0.3683, 0.6881, 0.2334, 0.5678],\n",
       "        [0.5971, 0.2023, 0.7722, 0.8718, 0.7404, 0.0389, 0.2314],\n",
       "        [0.3171, 0.7697, 0.3226, 0.7146, 0.4631, 0.2344, 0.2404]])"
      ]
     },
     "execution_count": 4,
     "metadata": {},
     "output_type": "execute_result"
    }
   ],
   "source": [
    "# Import torch\n",
    "import torch as t\n",
    "\n",
    "# Create random tensor\n",
    "tensor1 = t.rand((7,7))\n",
    "tensor1"
   ]
  },
  {
   "cell_type": "markdown",
   "metadata": {
    "id": "9-XxvRLfiqkR"
   },
   "source": [
    "### 3. Perform a matrix multiplication on the tensor from 2 with another random tensor with shape `(1, 7)` (hint: you may have to transpose the second tensor)."
   ]
  },
  {
   "cell_type": "code",
   "execution_count": 5,
   "metadata": {
    "id": "NcLqR0Sbi_vT"
   },
   "outputs": [
    {
     "data": {
      "text/plain": [
       "tensor([[0.7231],\n",
       "        [0.6994],\n",
       "        [0.6749],\n",
       "        [0.6268],\n",
       "        [1.0018],\n",
       "        [0.9508],\n",
       "        [0.6824]])"
      ]
     },
     "execution_count": 5,
     "metadata": {},
     "output_type": "execute_result"
    }
   ],
   "source": [
    "# Create another random tensor\n",
    "tensor2 = t.rand((1,7))\n",
    "# Perform matrix multiplication \n",
    "tensor1 @ tensor2.T"
   ]
  },
  {
   "cell_type": "markdown",
   "metadata": {
    "id": "eiutdKUFiryU"
   },
   "source": [
    "### 4. Set the random seed to `0` and do 2 & 3 over again.\n",
    "\n",
    "The output should be:\n",
    "```\n",
    "(tensor([[1.8542],\n",
    "         [1.9611],\n",
    "         [2.2884],\n",
    "         [3.0481],\n",
    "         [1.7067],\n",
    "         [2.5290],\n",
    "         [1.7989]]), torch.Size([7, 1]))\n",
    "```"
   ]
  },
  {
   "cell_type": "code",
   "execution_count": 7,
   "metadata": {
    "id": "D-lOWI_1jRMm"
   },
   "outputs": [
    {
     "data": {
      "text/plain": [
       "tensor([[1.8542],\n",
       "        [1.9611],\n",
       "        [2.2884],\n",
       "        [3.0481],\n",
       "        [1.7067],\n",
       "        [2.5290],\n",
       "        [1.7989]])"
      ]
     },
     "execution_count": 7,
     "metadata": {},
     "output_type": "execute_result"
    }
   ],
   "source": [
    "# Set manual seed\n",
    "t.manual_seed(0)\n",
    "\n",
    "# Create two random tensors\n",
    "a = t.rand((7,7))\n",
    "b = t.rand(1,7)\n",
    "\n",
    "\n",
    "# Matrix multiply tensors\n",
    "a @ b.T"
   ]
  },
  {
   "cell_type": "markdown",
   "metadata": {
    "id": "ezY6ks9Cis37"
   },
   "source": [
    "### 5. Speaking of random seeds, we saw how to set it with `torch.manual_seed()` but is there a GPU equivalent? (hint: you'll need to look into the documentation for `torch.cuda` for this one)\n",
    "  * If there is, set the GPU random seed to `1234`."
   ]
  },
  {
   "cell_type": "code",
   "execution_count": 8,
   "metadata": {
    "id": "_LKWcfSTjp00"
   },
   "outputs": [],
   "source": [
    "# Set random seed on the GPU\n",
    "t.mps.manual_seed(1234)"
   ]
  },
  {
   "cell_type": "markdown",
   "metadata": {
    "id": "Ir9qSaj6it4n"
   },
   "source": [
    "\n",
    "### 6. Create two random tensors of shape `(2, 3)` and send them both to the GPU (you'll need access to a GPU for this). Set `torch.manual_seed(1234)` when creating the tensors (this doesn't have to be the GPU random seed). The output should be something like:\n",
    "\n",
    "```\n",
    "Device: cuda\n",
    "(tensor([[0.0290, 0.4019, 0.2598],\n",
    "         [0.3666, 0.0583, 0.7006]], device='cuda:0'),\n",
    " tensor([[0.0518, 0.4681, 0.6738],\n",
    "         [0.3315, 0.7837, 0.5631]], device='cuda:0'))\n",
    "```"
   ]
  },
  {
   "cell_type": "code",
   "execution_count": 10,
   "metadata": {
    "id": "azXExiFZj5nm"
   },
   "outputs": [
    {
     "data": {
      "text/plain": [
       "(tensor([[8.1718e-01, 5.8811e-01, 5.5805e-01, 7.6914e-01, 3.3936e-01, 4.5596e-01,\n",
       "          6.7508e-01],\n",
       "         [4.4060e-04, 4.0876e-01, 1.7912e-01, 5.9732e-01, 8.4722e-01, 4.6701e-01,\n",
       "          2.0730e-01],\n",
       "         [4.2425e-01, 7.3200e-01, 7.9633e-01, 2.4987e-01, 9.2944e-01, 3.5299e-01,\n",
       "          9.5028e-01],\n",
       "         [6.7541e-01, 7.9429e-01, 5.8153e-01, 3.0577e-02, 7.8344e-01, 8.6078e-01,\n",
       "          8.9267e-01],\n",
       "         [7.6115e-01, 7.6772e-01, 5.8025e-01, 4.3897e-01, 1.9158e-01, 5.0489e-01,\n",
       "          2.6444e-01],\n",
       "         [6.4470e-01, 3.7207e-01, 8.9172e-01, 8.0635e-01, 6.0971e-01, 6.0305e-01,\n",
       "          9.0344e-02],\n",
       "         [9.7051e-01, 8.7768e-01, 6.2648e-02, 1.2800e-01, 2.2489e-01, 8.6703e-01,\n",
       "          5.0311e-01]], device='mps:0'),\n",
       " tensor([[0.0661, 0.3270, 0.5155, 0.2259, 0.8333, 0.5891, 0.2452]],\n",
       "        device='mps:0'))"
      ]
     },
     "execution_count": 10,
     "metadata": {},
     "output_type": "execute_result"
    }
   ],
   "source": [
    "# Set random seed\n",
    "t.mps.manual_seed(42)\n",
    "\n",
    "# Check for access to GPU\n",
    "device = 'mps' if t.backends.mps.is_available() else 'cpu'\n",
    "# Create two random tensors on GPU\n",
    "a = t.rand((7,7), device=device)\n",
    "b = t.rand((1,7), device=device)\n",
    "a, b"
   ]
  },
  {
   "cell_type": "markdown",
   "metadata": {
    "id": "5TlAxeiSiu1y"
   },
   "source": [
    "\n",
    "### 7. Perform a matrix multiplication on the tensors you created in 6 (again, you may have to adjust the shapes of one of the tensors).\n",
    "\n",
    "The output should look like:\n",
    "```\n",
    "(tensor([[0.3647, 0.4709],\n",
    "         [0.5184, 0.5617]], device='cuda:0'), torch.Size([2, 2]))\n",
    "```"
   ]
  },
  {
   "cell_type": "code",
   "execution_count": 12,
   "metadata": {
    "id": "fAeG7ox0lHEO"
   },
   "outputs": [
    {
     "data": {
      "text/plain": [
       "tensor([[1.4246],\n",
       "        [1.3929],\n",
       "        [1.9497],\n",
       "        [1.9898],\n",
       "        [1.2215],\n",
       "        [1.6916],\n",
       "        [1.2338]], device='mps:0')"
      ]
     },
     "execution_count": 12,
     "metadata": {},
     "output_type": "execute_result"
    }
   ],
   "source": [
    "# Perform matmul on tensor_A and tensor_B\n",
    "c = a @ b.T\n",
    "c"
   ]
  },
  {
   "cell_type": "markdown",
   "metadata": {
    "id": "G7qfa5CSivwg"
   },
   "source": [
    "### 8. Find the maximum and minimum values of the output of 7."
   ]
  },
  {
   "cell_type": "code",
   "execution_count": 16,
   "metadata": {
    "id": "Fu8_3mZpllOd"
   },
   "outputs": [
    {
     "data": {
      "text/plain": [
       "(tensor(1.9898, device='mps:0'), tensor(1.2215, device='mps:0'))"
      ]
     },
     "execution_count": 16,
     "metadata": {},
     "output_type": "execute_result"
    }
   ],
   "source": [
    "# Find max, # Find min\n",
    "c.max(), c.min()"
   ]
  },
  {
   "cell_type": "markdown",
   "metadata": {
    "id": "wrTj5FgNiw47"
   },
   "source": [
    "### 9. Find the maximum and minimum index values of the output of 7."
   ]
  },
  {
   "cell_type": "code",
   "execution_count": 18,
   "metadata": {
    "id": "CCEKt4K2lsfQ"
   },
   "outputs": [
    {
     "data": {
      "text/plain": [
       "(tensor(3, device='mps:0'), tensor(4, device='mps:0'))"
      ]
     },
     "execution_count": 18,
     "metadata": {},
     "output_type": "execute_result"
    }
   ],
   "source": [
    "# Find arg max, # Find arg min\n",
    "c.argmax(), c.argmin()\n",
    "\n"
   ]
  },
  {
   "cell_type": "markdown",
   "metadata": {
    "id": "hmeybz4uixy7"
   },
   "source": [
    "\n",
    "### 10. Make a random tensor with shape `(1, 1, 1, 10)` and then create a new tensor with all the `1` dimensions removed to be left with a tensor of shape `(10)`. Set the seed to `7` when you create it and print out the first tensor and it's shape as well as the second tensor and it's shape.\n",
    "\n",
    "The output should look like:\n",
    "\n",
    "```\n",
    "tensor([[[[0.5349, 0.1988, 0.6592, 0.6569, 0.2328, 0.4251, 0.2071, 0.6297,\n",
    "           0.3653, 0.8513]]]]) torch.Size([1, 1, 1, 10])\n",
    "tensor([0.5349, 0.1988, 0.6592, 0.6569, 0.2328, 0.4251, 0.2071, 0.6297, 0.3653,\n",
    "        0.8513]) torch.Size([10])\n",
    "```"
   ]
  },
  {
   "cell_type": "code",
   "execution_count": 19,
   "metadata": {
    "id": "TQ9zbRzVl1jV"
   },
   "outputs": [
    {
     "data": {
      "text/plain": [
       "(tensor([[[[0.7544, 0.7100, 0.7095, 0.4036, 0.5627, 0.0098, 0.0498, 0.7344,\n",
       "            0.9472, 0.2643]]]], device='mps:0'),\n",
       " torch.Size([1, 1, 1, 10]),\n",
       " tensor([0.5932, 0.1123, 0.1535, 0.2417, 0.7262, 0.7011, 0.2038, 0.6511, 0.7745,\n",
       "         0.4369]),\n",
       " torch.Size([10]))"
      ]
     },
     "execution_count": 19,
     "metadata": {},
     "output_type": "execute_result"
    }
   ],
   "source": [
    "# Set seed\n",
    "t.mps.manual_seed(7)\n",
    "\n",
    "# Create random tensor\n",
    "a = t.rand((1,1,1,10), device=device)\n",
    "\n",
    "# Remove single dimensions\n",
    "b = t.rand(10)\n",
    "\n",
    "# Print out tensors and their shapes\n",
    "a, a.shape, b, b.shape"
   ]
  }
 ],
 "metadata": {
  "accelerator": "GPU",
  "colab": {
   "collapsed_sections": [],
   "name": "00_pytorch_fundamentals_exercises.ipynb",
   "provenance": []
  },
  "kernelspec": {
   "display_name": "pytorch",
   "language": "python",
   "name": "python3"
  },
  "language_info": {
   "codemirror_mode": {
    "name": "ipython",
    "version": 3
   },
   "file_extension": ".py",
   "mimetype": "text/x-python",
   "name": "python",
   "nbconvert_exporter": "python",
   "pygments_lexer": "ipython3",
   "version": "3.12.7"
  }
 },
 "nbformat": 4,
 "nbformat_minor": 0
}
